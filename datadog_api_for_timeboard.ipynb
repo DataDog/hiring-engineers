{
 "cells": [
  {
   "cell_type": "code",
   "execution_count": 1,
   "metadata": {
    "collapsed": true
   },
   "outputs": [],
   "source": [
    "from datadog import initialize, api\n",
    "\n",
    "options = {\n",
    "    'api_key': 'a32ed5c86d3cb70caac39a17d0800f1b',\n",
    "    'app_key': '5bcb6a64e7c3f3ec1e78a007daeaddb9b0e9cad1'\n",
    "}\n"
   ]
  },
  {
   "cell_type": "code",
   "execution_count": 2,
   "metadata": {
    "collapsed": true
   },
   "outputs": [],
   "source": [
    "initialize(**options)\n",
    "\n",
    "title = \"My Timeboard-1\"\n",
    "description = \"An informative timeboard.\""
   ]
  },
  {
   "cell_type": "code",
   "execution_count": 6,
   "metadata": {
    "collapsed": false
   },
   "outputs": [
    {
     "data": {
      "text/plain": [
       "{'dash': {'created': '2018-07-14T21:57:46.684085+00:00',\n",
       "  'created_by': {'access_role': 'adm',\n",
       "   'disabled': False,\n",
       "   'email': 'gmulchan1@gmail.com',\n",
       "   'handle': 'gmulchan1@gmail.com',\n",
       "   'icon': 'https://secure.gravatar.com/avatar/4fd2c05f757f06bcc46b928f2248d027?s=48&d=retro',\n",
       "   'is_admin': True,\n",
       "   'name': 'Gautam Mulchandani',\n",
       "   'role': None,\n",
       "   'verified': True},\n",
       "  'description': 'An informative timeboard.',\n",
       "  'graphs': [{'definition': {'events': [],\n",
       "     'requests': [{'aggregator': 'avg',\n",
       "       'conditional_formats': [],\n",
       "       'q': 'avg:hello.my_metric{host:vagrant}',\n",
       "       'style': {'palette': 'dog_classic', 'type': 'solid', 'width': 'normal'},\n",
       "       'type': 'line'}],\n",
       "     'viz': 'timeseries'},\n",
       "    'title': 'Average of My Metric'},\n",
       "   {'definition': {'requests': [{'aggregator': 'avg',\n",
       "       'conditional_formats': [],\n",
       "       'q': \"anomalies(avg:mongodb.connections.available{server:mongodb://_:_localhost:27017/admin}, 'robust', 2)\",\n",
       "       'style': {'palette': 'dog_classic', 'type': 'solid', 'width': 'normal'},\n",
       "       'type': 'line'}],\n",
       "     'status': 'done',\n",
       "     'viz': 'timeseries'},\n",
       "    'title': 'mongodb with anomalies'},\n",
       "   {'definition': {'requests': [{'aggregator': 'avg',\n",
       "       'conditional_formats': [],\n",
       "       'q': 'avg:hello.my_metric{host:vagrant}.rollup(sum, 60)',\n",
       "       'style': {'palette': 'dog_classic', 'type': 'solid', 'width': 'normal'},\n",
       "       'type': 'line'}],\n",
       "     'status': 'done',\n",
       "     'viz': 'timeseries'},\n",
       "    'title': 'ave of my_metric with rollup'}],\n",
       "  'id': 860605,\n",
       "  'modified': '2018-07-14T21:57:46.708061+00:00',\n",
       "  'read_only': False,\n",
       "  'title': 'My Timeboard-1'},\n",
       " 'resource': '/api/v1/dash/860605',\n",
       " 'url': '/dash/860605/my-timeboard-1'}"
      ]
     },
     "execution_count": 6,
     "metadata": {},
     "output_type": "execute_result"
    }
   ],
   "source": [
    "graphs = [{\n",
    "    \"definition\": {\n",
    "        \"events\": [],\n",
    "        \"requests\": [\n",
    "            {\n",
    "                \"q\": \"avg:hello.my_metric{host:vagrant}\",\n",
    "                \"type\": \"line\",\n",
    "                \"style\": {\n",
    "                \"palette\": \"dog_classic\",\n",
    "                \"type\": \"solid\",\n",
    "                \"width\": \"normal\"\n",
    "                },\n",
    "                \"conditional_formats\": [],\n",
    "                \"aggregator\": \"avg\"\n",
    "            }\n",
    "        ],\n",
    "        \"viz\": \"timeseries\"\n",
    "    },\n",
    "    \"title\": \"Average of My Metric\"\n",
    "}, {\"definition\": {\n",
    "  \"viz\": \"timeseries\",\n",
    "  \"status\": \"done\",\n",
    "  \"requests\": [\n",
    "    {\n",
    "      \"q\": \"anomalies(avg:mongodb.connections.available{server:mongodb://_:_localhost:27017/admin}, 'robust', 2)\",\n",
    "      \"type\": \"line\",\n",
    "      \"style\": {\n",
    "        \"palette\": \"dog_classic\",\n",
    "        \"type\": \"solid\",\n",
    "        \"width\": \"normal\"\n",
    "      },\n",
    "      \"conditional_formats\": [],\n",
    "      \"aggregator\": \"avg\"\n",
    "    }\n",
    "  ] },\n",
    "  \"title\": \"mongodb with anomalies\"\n",
    "}, {\"definition\": {\n",
    "  \"viz\": \"timeseries\",\n",
    "  \"status\": \"done\",\n",
    "  \"requests\": [\n",
    "    {\n",
    "      \"q\": \"avg:hello.my_metric{host:vagrant}.rollup(sum, 60)\",\n",
    "      \"type\": \"line\",\n",
    "      \"style\": {\n",
    "        \"palette\": \"dog_classic\",\n",
    "        \"type\": \"solid\",\n",
    "        \"width\": \"normal\"\n",
    "      },\n",
    "      \"conditional_formats\": [],\n",
    "      \"aggregator\": \"avg\"\n",
    "    }\n",
    "  ]},\n",
    "  \"title\": \"ave of my_metric with rollup\"\n",
    "}]\n",
    "\n",
    "\n",
    "api.Timeboard.create(title=title,\n",
    "                     description=description,\n",
    "                     graphs=graphs)"
   ]
  },
  {
   "cell_type": "code",
   "execution_count": null,
   "metadata": {
    "collapsed": true
   },
   "outputs": [],
   "source": []
  }
 ],
 "metadata": {
  "kernelspec": {
   "display_name": "Python 2",
   "language": "python",
   "name": "python2"
  },
  "language_info": {
   "codemirror_mode": {
    "name": "ipython",
    "version": 2
   },
   "file_extension": ".py",
   "mimetype": "text/x-python",
   "name": "python",
   "nbconvert_exporter": "python",
   "pygments_lexer": "ipython2",
   "version": "2.7.13"
  }
 },
 "nbformat": 4,
 "nbformat_minor": 2
}
