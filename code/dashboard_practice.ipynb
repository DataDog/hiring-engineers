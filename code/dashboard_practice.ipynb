{
 "cells": [
  {
   "cell_type": "code",
   "execution_count": 5,
   "metadata": {},
   "outputs": [],
   "source": [
    "import os\n",
    "import requests\n",
    "from config import API\n",
    "from config import APP"
   ]
  },
  {
   "cell_type": "code",
   "execution_count": 13,
   "metadata": {},
   "outputs": [
    {
     "ename": "NameError",
     "evalue": "name 'true' is not defined",
     "output_type": "error",
     "traceback": [
      "\u001b[0;31m---------------------------------------------------------------------------\u001b[0m",
      "\u001b[0;31mNameError\u001b[0m                                 Traceback (most recent call last)",
      "\u001b[0;32m<ipython-input-13-475eea765eb9>\u001b[0m in \u001b[0;36m<module>\u001b[0;34m\u001b[0m\n\u001b[0;32m----> 1\u001b[0;31m \u001b[0mdashboard\u001b[0m \u001b[0;34m=\u001b[0m \u001b[0;34m(\u001b[0m\u001b[0;34m{\u001b[0m\u001b[0;34m\"title\"\u001b[0m\u001b[0;34m:\u001b[0m\u001b[0;34m\"Delaney's Dashboard\"\u001b[0m\u001b[0;34m,\u001b[0m\u001b[0;34m\"description\"\u001b[0m\u001b[0;34m:\u001b[0m\u001b[0;34m\"A customized dashboard\"\u001b[0m\u001b[0;34m,\u001b[0m\u001b[0;34m\"widgets\"\u001b[0m\u001b[0;34m:\u001b[0m\u001b[0;34m[\u001b[0m\u001b[0;34m{\u001b[0m\u001b[0;34m\"id\"\u001b[0m\u001b[0;34m:\u001b[0m\u001b[0;36m1719221985538956\u001b[0m\u001b[0;34m,\u001b[0m\u001b[0;34m\"definition\"\u001b[0m\u001b[0;34m:\u001b[0m\u001b[0;34m{\u001b[0m\u001b[0;34m\"title\"\u001b[0m\u001b[0;34m:\u001b[0m\u001b[0;34m\"my_metric timeboard\"\u001b[0m\u001b[0;34m,\u001b[0m\u001b[0;34m\"show_legend\"\u001b[0m\u001b[0;34m:\u001b[0m\u001b[0mtrue\u001b[0m\u001b[0;34m,\u001b[0m\u001b[0;34m\"legend_layout\"\u001b[0m\u001b[0;34m:\u001b[0m\u001b[0;34m\"auto\"\u001b[0m\u001b[0;34m,\u001b[0m\u001b[0;34m\"type\"\u001b[0m\u001b[0;34m:\u001b[0m\u001b[0;34m\"timeseries\"\u001b[0m\u001b[0;34m,\u001b[0m\u001b[0;34m\"requests\"\u001b[0m\u001b[0;34m:\u001b[0m\u001b[0;34m[\u001b[0m\u001b[0;34m{\u001b[0m\u001b[0;34m\"q\"\u001b[0m\u001b[0;34m:\u001b[0m\u001b[0;34m\"avg:my_metric{host:Delaneys-MacBook-Air.local}\"\u001b[0m\u001b[0;34m}\u001b[0m\u001b[0;34m]\u001b[0m\u001b[0;34m}\u001b[0m\u001b[0;34m}\u001b[0m\u001b[0;34m,\u001b[0m\u001b[0;34m{\u001b[0m\u001b[0;34m\"id\"\u001b[0m\u001b[0;34m:\u001b[0m\u001b[0;36m4818405382923293\u001b[0m\u001b[0;34m,\u001b[0m\u001b[0;34m\"definition\"\u001b[0m\u001b[0;34m:\u001b[0m\u001b[0;34m{\u001b[0m\u001b[0;34m\"title\"\u001b[0m\u001b[0;34m:\u001b[0m\u001b[0;34m\"MongoDB mem.resident anomalies\"\u001b[0m\u001b[0;34m,\u001b[0m\u001b[0;34m\"show_legend\"\u001b[0m\u001b[0;34m:\u001b[0m\u001b[0mtrue\u001b[0m\u001b[0;34m,\u001b[0m\u001b[0;34m\"legend_layout\"\u001b[0m\u001b[0;34m:\u001b[0m\u001b[0;34m\"auto\"\u001b[0m\u001b[0;34m,\u001b[0m\u001b[0;34m\"legend_columns\"\u001b[0m\u001b[0;34m:\u001b[0m\u001b[0;34m[\u001b[0m\u001b[0;34m\"avg\"\u001b[0m\u001b[0;34m,\u001b[0m\u001b[0;34m\"min\"\u001b[0m\u001b[0;34m,\u001b[0m\u001b[0;34m\"max\"\u001b[0m\u001b[0;34m,\u001b[0m\u001b[0;34m\"value\"\u001b[0m\u001b[0;34m,\u001b[0m\u001b[0;34m\"sum\"\u001b[0m\u001b[0;34m]\u001b[0m\u001b[0;34m,\u001b[0m\u001b[0;34m\"type\"\u001b[0m\u001b[0;34m:\u001b[0m\u001b[0;34m\"timeseries\"\u001b[0m\u001b[0;34m,\u001b[0m\u001b[0;34m\"requests\"\u001b[0m\u001b[0;34m:\u001b[0m\u001b[0;34m[\u001b[0m\u001b[0;34m{\u001b[0m\u001b[0;34m\"formulas\"\u001b[0m\u001b[0;34m:\u001b[0m\u001b[0;34m[\u001b[0m\u001b[0;34m{\u001b[0m\u001b[0;34m\"formula\"\u001b[0m\u001b[0;34m:\u001b[0m\u001b[0;34m\"anomalies(query1, \\\"basic\\\", 2)\"\u001b[0m\u001b[0;34m}\u001b[0m\u001b[0;34m]\u001b[0m\u001b[0;34m,\u001b[0m\u001b[0;34m\"response_format\"\u001b[0m\u001b[0;34m:\u001b[0m\u001b[0;34m\"timeseries\"\u001b[0m\u001b[0;34m,\u001b[0m\u001b[0;34m\"queries\"\u001b[0m\u001b[0;34m:\u001b[0m\u001b[0;34m[\u001b[0m\u001b[0;34m{\u001b[0m\u001b[0;34m\"query\"\u001b[0m\u001b[0;34m:\u001b[0m\u001b[0;34m\"avg:mongodb.mem.resident{*}\"\u001b[0m\u001b[0;34m,\u001b[0m\u001b[0;34m\"data_source\"\u001b[0m\u001b[0;34m:\u001b[0m\u001b[0;34m\"metrics\"\u001b[0m\u001b[0;34m,\u001b[0m\u001b[0;34m\"name\"\u001b[0m\u001b[0;34m:\u001b[0m\u001b[0;34m\"query1\"\u001b[0m\u001b[0;34m}\u001b[0m\u001b[0;34m]\u001b[0m\u001b[0;34m}\u001b[0m\u001b[0;34m]\u001b[0m\u001b[0;34m,\u001b[0m\u001b[0;34m\"yaxis\"\u001b[0m\u001b[0;34m:\u001b[0m\u001b[0;34m{\u001b[0m\u001b[0;34m\"include_zero\"\u001b[0m\u001b[0;34m:\u001b[0m\u001b[0mtrue\u001b[0m\u001b[0;34m,\u001b[0m\u001b[0;34m\"scale\"\u001b[0m\u001b[0;34m:\u001b[0m\u001b[0;34m\"linear\"\u001b[0m\u001b[0;34m,\u001b[0m\u001b[0;34m\"label\"\u001b[0m\u001b[0;34m:\u001b[0m\u001b[0;34m\"\"\u001b[0m\u001b[0;34m,\u001b[0m\u001b[0;34m\"min\"\u001b[0m\u001b[0;34m:\u001b[0m\u001b[0;34m\"auto\"\u001b[0m\u001b[0;34m,\u001b[0m\u001b[0;34m\"max\"\u001b[0m\u001b[0;34m:\u001b[0m\u001b[0;34m\"auto\"\u001b[0m\u001b[0;34m}\u001b[0m\u001b[0;34m,\u001b[0m\u001b[0;34m\"markers\"\u001b[0m\u001b[0;34m:\u001b[0m\u001b[0;34m[\u001b[0m\u001b[0;34m]\u001b[0m\u001b[0;34m}\u001b[0m\u001b[0;34m}\u001b[0m\u001b[0;34m,\u001b[0m\u001b[0;34m{\u001b[0m\u001b[0;34m\"id\"\u001b[0m\u001b[0;34m:\u001b[0m\u001b[0;36m5691117037727301\u001b[0m\u001b[0;34m,\u001b[0m\u001b[0;34m\"definition\"\u001b[0m\u001b[0;34m:\u001b[0m\u001b[0;34m{\u001b[0m\u001b[0;34m\"title\"\u001b[0m\u001b[0;34m:\u001b[0m\u001b[0;34m\"my_metric rolling hour sum\"\u001b[0m\u001b[0;34m,\u001b[0m\u001b[0;34m\"show_legend\"\u001b[0m\u001b[0;34m:\u001b[0m\u001b[0mtrue\u001b[0m\u001b[0;34m,\u001b[0m\u001b[0;34m\"legend_layout\"\u001b[0m\u001b[0;34m:\u001b[0m\u001b[0;34m\"auto\"\u001b[0m\u001b[0;34m,\u001b[0m\u001b[0;34m\"type\"\u001b[0m\u001b[0;34m:\u001b[0m\u001b[0;34m\"timeseries\"\u001b[0m\u001b[0;34m,\u001b[0m\u001b[0;34m\"requests\"\u001b[0m\u001b[0;34m:\u001b[0m\u001b[0;34m[\u001b[0m\u001b[0;34m{\u001b[0m\u001b[0;34m\"q\"\u001b[0m\u001b[0;34m:\u001b[0m\u001b[0;34m\"avg:my_metric{*}.rollup(sum, 3600)\"\u001b[0m\u001b[0;34m}\u001b[0m\u001b[0;34m]\u001b[0m\u001b[0;34m}\u001b[0m\u001b[0;34m}\u001b[0m\u001b[0;34m]\u001b[0m\u001b[0;34m,\u001b[0m\u001b[0;34m\"template_variables\"\u001b[0m\u001b[0;34m:\u001b[0m\u001b[0;34m[\u001b[0m\u001b[0;34m{\u001b[0m\u001b[0;34m\"name\"\u001b[0m\u001b[0;34m:\u001b[0m\u001b[0;34m\"Custom Timeboard\"\u001b[0m\u001b[0;34m,\u001b[0m\u001b[0;34m\"default\"\u001b[0m\u001b[0;34m:\u001b[0m\u001b[0;34m\"my-host\"\u001b[0m\u001b[0;34m,\u001b[0m\u001b[0;34m\"prefix\"\u001b[0m\u001b[0;34m:\u001b[0m\u001b[0;34m\"host\"\u001b[0m\u001b[0;34m,\u001b[0m\u001b[0;34m\"available_values\"\u001b[0m\u001b[0;34m:\u001b[0m\u001b[0;34m[\u001b[0m\u001b[0;34m]\u001b[0m\u001b[0;34m}\u001b[0m\u001b[0;34m]\u001b[0m\u001b[0;34m,\u001b[0m\u001b[0;34m\"layout_type\"\u001b[0m\u001b[0;34m:\u001b[0m\u001b[0;34m\"ordered\"\u001b[0m\u001b[0;34m,\u001b[0m\u001b[0;34m\"is_read_only\"\u001b[0m\u001b[0;34m:\u001b[0m\u001b[0mtrue\u001b[0m\u001b[0;34m,\u001b[0m\u001b[0;34m\"notify_list\"\u001b[0m\u001b[0;34m:\u001b[0m\u001b[0;34m[\u001b[0m\u001b[0;34m\"delaneydickson@gmail.com\"\u001b[0m\u001b[0;34m]\u001b[0m\u001b[0;34m,\u001b[0m\u001b[0;34m\"template_variable_presets\"\u001b[0m\u001b[0;34m:\u001b[0m\u001b[0;34m[\u001b[0m\u001b[0;34m{\u001b[0m\u001b[0;34m\"name\"\u001b[0m\u001b[0;34m:\u001b[0m\u001b[0;34m\"Saved views for hostname 2\"\u001b[0m\u001b[0;34m,\u001b[0m\u001b[0;34m\"template_variables\"\u001b[0m\u001b[0;34m:\u001b[0m\u001b[0;34m[\u001b[0m\u001b[0;34m{\u001b[0m\u001b[0;34m\"name\"\u001b[0m\u001b[0;34m:\u001b[0m\u001b[0;34m\"host\"\u001b[0m\u001b[0;34m,\u001b[0m\u001b[0;34m\"value\"\u001b[0m\u001b[0;34m:\u001b[0m\u001b[0;34m\"test\"\u001b[0m\u001b[0;34m}\u001b[0m\u001b[0;34m]\u001b[0m\u001b[0;34m}\u001b[0m\u001b[0;34m]\u001b[0m\u001b[0;34m,\u001b[0m\u001b[0;34m\"reflow_type\"\u001b[0m\u001b[0;34m:\u001b[0m\u001b[0;34m\"auto\"\u001b[0m\u001b[0;34m,\u001b[0m\u001b[0;34m\"id\"\u001b[0m\u001b[0;34m:\u001b[0m\u001b[0;34m\"92c-xnh-5dt\"\u001b[0m\u001b[0;34m}\u001b[0m\u001b[0;34m)\u001b[0m\u001b[0;34m\u001b[0m\u001b[0;34m\u001b[0m\u001b[0m\n\u001b[0m",
      "\u001b[0;31mNameError\u001b[0m: name 'true' is not defined"
     ]
    }
   ],
   "source": [
    "dashboard = {\"title\":\"Delaney's Dashboard\",\"description\":\"A customized dashboard\",\"widgets\":[{\"id\":1719221985538956,\"definition\":{\"title\":\"my_metric timeboard\",\"show_legend\":true,\"legend_layout\":\"auto\",\"type\":\"timeseries\",\"requests\":[{\"q\":\"avg:my_metric{host:Delaneys-MacBook-Air.local}\"}]}},{\"id\":4818405382923293,\"definition\":{\"title\":\"MongoDB mem.resident anomalies\",\"show_legend\":true,\"legend_layout\":\"auto\",\"legend_columns\":[\"avg\",\"min\",\"max\",\"value\",\"sum\"],\"type\":\"timeseries\",\"requests\":[{\"formulas\":[{\"formula\":\"anomalies(query1, \\\"basic\\\", 2)\"}],\"response_format\":\"timeseries\",\"queries\":[{\"query\":\"avg:mongodb.mem.resident{*}\",\"data_source\":\"metrics\",\"name\":\"query1\"}]}],\"yaxis\":{\"include_zero\":true,\"scale\":\"linear\",\"label\":\"\",\"min\":\"auto\",\"max\":\"auto\"},\"markers\":[]}},{\"id\":5691117037727301,\"definition\":{\"title\":\"my_metric rolling hour sum\",\"show_legend\":true,\"legend_layout\":\"auto\",\"type\":\"timeseries\",\"requests\":[{\"q\":\"avg:my_metric{*}.rollup(sum, 3600)\"}]}}],\"template_variables\":[{\"name\":\"Custom Timeboard\",\"default\":\"my-host\",\"prefix\":\"host\",\"available_values\":[]}],\"layout_type\":\"ordered\",\"is_read_only\":true,\"notify_list\":[\"delaneydickson@gmail.com\"],\"template_variable_presets\":[{\"name\":\"Saved views for hostname 2\",\"template_variables\":[{\"name\":\"host\",\"value\":\"test\"}]}],\"reflow_type\":\"auto\",\"id\":\"92c-xnh-5dt\"}"
   ]
  },
  {
   "cell_type": "code",
   "execution_count": 12,
   "metadata": {},
   "outputs": [
    {
     "ename": "NameError",
     "evalue": "name 'dashboard' is not defined",
     "output_type": "error",
     "traceback": [
      "\u001b[0;31m---------------------------------------------------------------------------\u001b[0m",
      "\u001b[0;31mNameError\u001b[0m                                 Traceback (most recent call last)",
      "\u001b[0;32m<ipython-input-12-c74801038e9b>\u001b[0m in \u001b[0;36m<module>\u001b[0;34m\u001b[0m\n\u001b[0;32m----> 1\u001b[0;31m \u001b[0mdelaney_dashboard\u001b[0m \u001b[0;34m=\u001b[0m \u001b[0mdashboard\u001b[0m\u001b[0;34m.\u001b[0m\u001b[0mjson\u001b[0m\u001b[0;34m(\u001b[0m\u001b[0;34m)\u001b[0m\u001b[0;34m\u001b[0m\u001b[0;34m\u001b[0m\u001b[0m\n\u001b[0m",
      "\u001b[0;31mNameError\u001b[0m: name 'dashboard' is not defined"
     ]
    }
   ],
   "source": [
    "delaney_dashboard = dashboard.json()"
   ]
  },
  {
   "cell_type": "code",
   "execution_count": null,
   "metadata": {},
   "outputs": [],
   "source": []
  }
 ],
 "metadata": {
  "kernelspec": {
   "display_name": "PythonData",
   "language": "python",
   "name": "pythondata"
  },
  "language_info": {
   "codemirror_mode": {
    "name": "ipython",
    "version": 3
   },
   "file_extension": ".py",
   "mimetype": "text/x-python",
   "name": "python",
   "nbconvert_exporter": "python",
   "pygments_lexer": "ipython3",
   "version": "3.8.5"
  }
 },
 "nbformat": 4,
 "nbformat_minor": 4
}
