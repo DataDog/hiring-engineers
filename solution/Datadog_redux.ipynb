{
 "cells": [
  {
   "cell_type": "markdown",
   "metadata": {
    "slideshow": {
     "slide_type": "slide"
    }
   },
   "source": [
    "# Overview\n",
    "\n",
    "* [Datadog Agent](#Datadog-Agent)\n",
    " * [Example Ubuntu Installation](#Example-Ubuntu-Installation)\n",
    "* [Collecting Data](#Collecting-Data)\n",
    " * [Tags](#Tags)\n",
    "* [Integrations](#Integrations)\n",
    " * [Example MongoDB](#Example-MongoDB)\n",
    "* [Custom Checks](#Custom-Checks)\n",
    " * [Example Agent Check](#Example-Agent-Check)\n",
    "* [Timeboards](#Timeboards)\n",
    "* [Screenboards](#Screenboards)\n",
    "* [Notifications](#Notifications)\n",
    "* [Monitors](#Monitors)\n",
    " * [Example Monitor](#Example-Monitor)\n",
    "* [Downtime](#Downtime)\n",
    " * [Example Downtime](#Example-Downtime)\n",
    "* [Links](#Links)\n",
    " * [Agent](#Agent)\n",
    " * [KBA](#KBA)\n",
    " * [Example Configs](#Example-Configs)\n",
    " * [Custom Tools](#Custom-Tools)\n"
   ]
  },
  {
   "cell_type": "markdown",
   "metadata": {
    "slideshow": {
     "slide_type": "slide"
    }
   },
   "source": [
    "# Datadog Agent \n",
    "\n",
    "An open source customizable application that lives on each host relaying various events and time-series data to datadog for visualization; such as system and application performace metrics, aggregated log parsing and custom user created checks.\n",
    "\n",
    "* Agent Source Code: https://github.com/DataDog/dd-agent\n",
    "\n",
    "## Example Ubuntu Installation\n",
    "* https://app.datadoghq.com/account/settings#agent\n",
    "\n",
    "```\n",
    "$ DD_API_KEY=[secret] bash -c \"$(curl -L https://raw.githubusercontent.com/DataDog/dd-agent/master/packaging/datadog-agent/source/install_agent.sh)\"\n",
    "```"
   ]
  },
  {
   "cell_type": "markdown",
   "metadata": {},
   "source": [
    "# Collecting Data\n",
    "\n",
    "Basic system metrics begin flowing into your Datadog account after setup. Several features are available to provide further meaning into your environment.\n",
    "\n",
    "## Tags\n",
    "\n",
    "Use the power of tags for locating and grouping metrics.\n",
    "\n",
    "* Added automatically through integrations\n",
    "* Created using the API\n",
    "* Configured in the agent configuration\n",
    "\n",
    "![alt text](images/tags_agent.png \"Tags agent config\")\n",
    "\n",
    "* Editable in the UI for hosts\n",
    "\n",
    "![alt text](images/tags_ui.png \"Tags host UI\")"
   ]
  },
  {
   "cell_type": "markdown",
   "metadata": {},
   "source": [
    "# Integrations\n",
    "\n",
    "Datadog comes with several [Integrations](https://www.datadoghq.com/product/integrations/) that make installation a snap and add dashboards out of the box so you can visualize meaningful data instantly. \n",
    "\n",
    "## Example MongoDB\n",
    "\n",
    "* Add the Datadog integration\n",
    "![alt text](images/integrations_menu.png \"Integrations Menu\")\n",
    "![alt text](images/integrations_setup.png \"Integrations Setup\")"
   ]
  },
  {
   "cell_type": "markdown",
   "metadata": {},
   "source": [
    "* Install MongoDB on an instance\n",
    " * [Ansible MongoDB](ansible/mongo.yaml) \n",
    "\n",
    "```\n",
    "$ ansible-playbook -i [ip_address], mongo.yaml\n",
    "```\n",
    "\n",
    "* Check for successful installation\n",
    "\n",
    "![alt text](images/info_mongo.png \"Info mongodb check\")"
   ]
  },
  {
   "cell_type": "markdown",
   "metadata": {},
   "source": [
    "# Custom Checks\n",
    "\n",
    "You may find use cases that require the collection of metrics not already provided by Datadog's many functions and Integrations. Custom [Agent Checks]( http://docs.datadoghq.com/guides/agent_checks/) have the ability to run personalized scripts to meet these requirements.\n",
    "\n",
    "## Example Agent Check\n",
    "\n",
    "* Create the script `/etc/dd-agent/checks.d/random.py`\n",
    "\n",
    "```python\n",
    "from random import random\n",
    "\n",
    "from checks import AgentCheck\n",
    "\n",
    "class RandomMetric(AgentCheck):\n",
    "    \"\"\"sends a random number > 0 < 1\"\"\"\n",
    "\n",
    "    def check(self, instance):\n",
    "        self.gauge('test.support.random', random())\n",
    "```\n",
    "\n",
    "* Each check requires a config with the same name `/etc/dd-agent/conf.d/random.yaml`\n",
    "\n",
    "```yaml\n",
    "init_config:\n",
    "\n",
    "instances:\n",
    "    [{}]\n",
    "\n",
    "```\n",
    "\n",
    "* Restart the agent and confirm the installation\n",
    "\n",
    "```\n",
    "$ sudo /etc/init.d/datadog-agent restart && sudo dd-agent info\n",
    "```\n",
    "\n",
    "![alt text](images/info_check.png \"Info random check\")"
   ]
  },
  {
   "cell_type": "markdown",
   "metadata": {
    "slideshow": {
     "slide_type": "slide"
    }
   },
   "source": [
    "# Timeboards"
   ]
  },
  {
   "cell_type": "markdown",
   "metadata": {
    "slideshow": {
     "slide_type": "fragment"
    }
   },
   "source": [
    "* Are laid out in a grid and good for analysing events during a specific window of time\n",
    "* Graphs and widgets share a common time frame\n",
    "![alt text](images/timeboard_show.png \"Timeboard Time Selector\")"
   ]
  },
  {
   "cell_type": "markdown",
   "metadata": {},
   "source": [
    "* Available widgets: Timeseries, Query Value, Heat Map, Distribution, Top List, Change, Hostmap\n",
    "![alt text](images/timeboard_widgets.png \"Timeboard Widgets\")"
   ]
  },
  {
   "cell_type": "markdown",
   "metadata": {},
   "source": [
    "# Screenboards"
   ]
  },
  {
   "cell_type": "markdown",
   "metadata": {},
   "source": [
    "* Screenboards allow widgets to specify different time frames \n",
    "* providing flexibility of placement and widget size.\n",
    "* Available widgets: Free Text, Graph, Query Value, Toplist, Change, Event Timeline, Event Stream, Image, Note, Alert Graph, Alert Value, IFrame, Check Status, Hostmap\n",
    "\n",
    "![alt text](images/screenboard_widgets.png \"Screenboard Widgets\")"
   ]
  },
  {
   "cell_type": "markdown",
   "metadata": {},
   "source": [
    "# Notifications\n",
    "\n",
    "* Share findings from graphs in Timeboards and Metrics Explorer\n",
    "\n",
    "![alt text](images/annotate_icon.png \"Annotation Icon\") \n",
    "![alt text](images/annotation.png \"Annotation\") \n",
    "\n",
    "* Use @name to send an email notification\n",
    "\n",
    "![alt text](images/snapshot_comment.png \"Snapshot Comment\")"
   ]
  },
  {
   "cell_type": "markdown",
   "metadata": {},
   "source": [
    "# Monitors\n",
    "\n",
    "Datadog provides Monitors for alerting on metrics\n",
    "\n",
    "## Example Monitor\n",
    "\n",
    "![alt text](images/monitors_menu.png \"Snapshot Comment\")\n",
    "![alt text](images/monitor_metric.png \"Snapshot Comment\")\n",
    "\n",
    "* Simple Alerts fire once when the conditions you set match while Multi Alerts will alert for each member of the provided grouping tag\n",
    "\n",
    "![alt text](images/bonus_multi_alert.png \"Multi Alert\")\n",
    "\n",
    "* Provide a meaningful message so receipients can understand the event and take action if needed\n",
    "\n",
    "![alt text](images/alert_config_message.png \"Alert Message Config\")"
   ]
  },
  {
   "cell_type": "markdown",
   "metadata": {
    "collapsed": true
   },
   "source": [
    "# Downtime\n",
    "\n",
    "Downtime allows for the suppresion of alerts while performing maintenance and deployments or to remove noise and mitigate alert fatigue.\n",
    "\n",
    "## Example Downtime\n",
    "\n",
    "* Alerts from a POC environment are not required outside normal business hours, let the team get some sleep\n",
    "\n",
    "![alt text](images/downtime_config.png \"Downtime configuration\")\n",
    "\n",
    "* By using @name again you can send notifications when a Downtime is configured\n",
    "![alt text](images/alert_downtime.png \"Alert Suppression/Downtime\")"
   ]
  },
  {
   "cell_type": "markdown",
   "metadata": {},
   "source": [
    "# Questions?\n"
   ]
  },
  {
   "cell_type": "markdown",
   "metadata": {},
   "source": [
    "# Links\n",
    "\n",
    "## Agent\n",
    "* https://github.com/DataDog/dd-agent\n",
    "\n",
    "## KBA\n",
    "* [Agent Settings](https://app.datadoghq.com/account/settings#agent)\n",
    "* [Guide to Tagging](http://docs.datadoghq.com/guides/tagging/)\n",
    "* [Integrations](http://docs.datadoghq.com/integrations/)\n",
    "* [Writing an Agent Check](http://docs.datadoghq.com/guides/agent_checks/)\n",
    "* [Guide to Monitors](http://docs.datadoghq.com/guides/monitors/)\n",
    "* [Downtime](https://www.datadoghq.com/blog/mute-datadog-alerts-planned-downtime/)\n",
    "* [Screenboard vs Timeboard](https://help.datadoghq.com/hc/en-us/articles/204580349-What-is-the-difference-between-a-ScreenBoard-and-a-TimeBoard-)\n",
    "* [Converting Dashboards](https://help.datadoghq.com/hc/en-us/articles/211244183-How-to-Transform-a-Timeboard-to-a-Screenboard-or-vice-versa)\n",
    "\n",
    "## Example Configs\n",
    "* [Terraform Instance](terraform/)\n",
    "* [Ansible Resources](ansible/)\n",
    "\n",
    "## Custom Tools\n",
    "* https://github.com/DataDog/Miscellany\n",
    "* https://github.com/DataDog/Miscellany/pull/12"
   ]
  },
  {
   "cell_type": "code",
   "execution_count": null,
   "metadata": {
    "collapsed": true
   },
   "outputs": [],
   "source": []
  }
 ],
 "metadata": {
  "kernelspec": {
   "display_name": "Python 2",
   "language": "python",
   "name": "python2"
  },
  "language_info": {
   "codemirror_mode": {
    "name": "ipython",
    "version": 2
   },
   "file_extension": ".py",
   "mimetype": "text/x-python",
   "name": "python",
   "nbconvert_exporter": "python",
   "pygments_lexer": "ipython2",
   "version": "2.7.6"
  }
 },
 "nbformat": 4,
 "nbformat_minor": 0
}
